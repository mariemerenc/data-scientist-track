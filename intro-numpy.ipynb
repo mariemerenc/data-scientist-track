{
 "cells": [
  {
   "cell_type": "markdown",
   "metadata": {},
   "source": [
    "# 1. Introdução Numpy"
   ]
  },
  {
   "cell_type": "markdown",
   "metadata": {},
   "source": [
    "## 1.1 Importando Numpy e criando arrays"
   ]
  },
  {
   "cell_type": "code",
   "execution_count": null,
   "metadata": {},
   "outputs": [
    {
     "name": "stdout",
     "output_type": "stream",
     "text": [
      "Array 1D: [1 2 3 4 5]\n",
      "Array 2D:\n",
      " [[1 2 3]\n",
      " [4 5 6]]\n",
      "Array 3D:\n",
      " [[[1 2]\n",
      "  [3 4]]\n",
      "\n",
      " [[5 6]\n",
      "  [7 8]]]\n"
     ]
    }
   ],
   "source": [
    "import numpy as np\n",
    "\n",
    "# array unidimensional (1D)\n",
    "arr1 = np.array([1, 2, 3, 4, 5])\n",
    "print(\"Array 1D:\", arr1)\n",
    "\n",
    "# array bidimensional (2D)\n",
    "arr2 = np.array([[1, 2, 3], [4, 5, 6]])\n",
    "print(\"Array 2D:\\n\", arr2)\n",
    "\n",
    "# array tridimensional (3D)\n",
    "arr3 = np.array([[[1, 2], [3, 4]], [[5, 6], [7, 8]]])\n",
    "print(\"Array 3D:\\n\", arr3)\n"
   ]
  },
  {
   "cell_type": "markdown",
   "metadata": {},
   "source": [
    "# 2. Tipos de dados e propriedades de arrays"
   ]
  },
  {
   "cell_type": "markdown",
   "metadata": {},
   "source": [
    "## 2.1 Propriedades de arrays"
   ]
  },
  {
   "cell_type": "code",
   "execution_count": null,
   "metadata": {},
   "outputs": [
    {
     "name": "stdout",
     "output_type": "stream",
     "text": [
      "Shape: (2, 3)\n",
      "Tamanho total: 6\n",
      "Tipo de dados: int64\n"
     ]
    }
   ],
   "source": [
    "print(\"Shape:\", arr2.shape)  # dimensões do array\n",
    "print(\"Tamanho total:\", arr2.size)  # número total de elementos\n",
    "print(\"Tipo de dados:\", arr2.dtype)  # tipo de dados armazenado"
   ]
  },
  {
   "cell_type": "markdown",
   "metadata": {},
   "source": [
    "## 2.2 Arrays especiais"
   ]
  },
  {
   "cell_type": "code",
   "execution_count": null,
   "metadata": {},
   "outputs": [
    {
     "name": "stdout",
     "output_type": "stream",
     "text": [
      "Matriz de Zeros:\n",
      " [[0. 0. 0.]\n",
      " [0. 0. 0.]\n",
      " [0. 0. 0.]]\n",
      "Matriz de Uns:\n",
      " [[1. 1. 1. 1.]\n",
      " [1. 1. 1. 1.]]\n",
      "Matriz Aleatória:\n",
      " [[0.24241575 0.63718189 0.17864879]\n",
      " [0.86382658 0.40068819 0.4677313 ]\n",
      " [0.54697637 0.56467878 0.79863671]]\n"
     ]
    }
   ],
   "source": [
    "# array de zeros\n",
    "zeros = np.zeros((3, 3))\n",
    "print(\"Matriz de Zeros:\\n\", zeros)\n",
    "\n",
    "# array de uns\n",
    "ones = np.ones((2, 4))\n",
    "print(\"Matriz de Uns:\\n\", ones)\n",
    "\n",
    "# array de números aleatórios\n",
    "rand = np.random.rand(3, 3)\n",
    "print(\"Matriz Aleatória:\\n\", rand)\n"
   ]
  },
  {
   "cell_type": "markdown",
   "metadata": {},
   "source": [
    "# 3. Indexação e fatiamento de arrays"
   ]
  },
  {
   "cell_type": "markdown",
   "metadata": {},
   "source": [
    "## 3.1 Selecionando elementos"
   ]
  },
  {
   "cell_type": "code",
   "execution_count": 14,
   "metadata": {},
   "outputs": [
    {
     "name": "stdout",
     "output_type": "stream",
     "text": [
      "Elemento (1,2): 20\n",
      "Linha 2: [70 80 90]\n",
      "Coluna 1:\n",
      " [20 50 80]\n"
     ]
    }
   ],
   "source": [
    "# array 2D exemplo\n",
    "arr = np.array([[10, 20, 30], [40, 50, 60], [70, 80, 90]])\n",
    "\n",
    "# selecionando um elemento específico\n",
    "print(\"Elemento (1,2):\", arr[0, 1])  # linha 1, coluna 2 \n",
    "\n",
    "# selecionando uma linha inteira\n",
    "print(\"Linha 2:\", arr[2, :])  \n",
    "\n",
    "# selecionando uma coluna inteira\n",
    "print(\"Coluna 1:\\n\", arr[:, 1])  "
   ]
  },
  {
   "cell_type": "markdown",
   "metadata": {},
   "source": [
    "## 3.2 Fatiamento"
   ]
  },
  {
   "cell_type": "code",
   "execution_count": null,
   "metadata": {},
   "outputs": [
    {
     "name": "stdout",
     "output_type": "stream",
     "text": [
      "Submatriz:\n",
      " [[20 30]\n",
      " [50 60]]\n"
     ]
    }
   ],
   "source": [
    "# selecionando uma submatriz\n",
    "print(\"Submatriz:\\n\", arr[0:2, 1:3])"
   ]
  },
  {
   "cell_type": "markdown",
   "metadata": {},
   "source": [
    "# 4. Operações matemáticas com arrays"
   ]
  },
  {
   "cell_type": "markdown",
   "metadata": {},
   "source": [
    "## 4.1 Elemento a elemento"
   ]
  },
  {
   "cell_type": "code",
   "execution_count": 6,
   "metadata": {},
   "outputs": [
    {
     "name": "stdout",
     "output_type": "stream",
     "text": [
      "Soma: [5 7 9]\n",
      "Subtração: [-3 -3 -3]\n",
      "Multiplicação: [ 4 10 18]\n",
      "Divisão: [0.25 0.4  0.5 ]\n"
     ]
    }
   ],
   "source": [
    "a = np.array([1, 2, 3])\n",
    "b = np.array([4, 5, 6])\n",
    "\n",
    "print(\"Soma:\", a + b)\n",
    "print(\"Subtração:\", a - b)\n",
    "print(\"Multiplicação:\", a * b)\n",
    "print(\"Divisão:\", a / b)"
   ]
  },
  {
   "cell_type": "markdown",
   "metadata": {},
   "source": [
    "## 4.2 Estatísticas"
   ]
  },
  {
   "cell_type": "code",
   "execution_count": 7,
   "metadata": {},
   "outputs": [
    {
     "name": "stdout",
     "output_type": "stream",
     "text": [
      "Média: 30.0\n",
      "Mediana: 30.0\n",
      "Desvio Padrão: 14.142135623730951\n",
      "Mínimo: 10\n",
      "Máximo: 50\n"
     ]
    }
   ],
   "source": [
    "dados = np.array([10, 20, 30, 40, 50])\n",
    "\n",
    "print(\"Média:\", np.mean(dados))\n",
    "print(\"Mediana:\", np.median(dados))\n",
    "print(\"Desvio Padrão:\", np.std(dados))\n",
    "print(\"Mínimo:\", np.min(dados))\n",
    "print(\"Máximo:\", np.max(dados))"
   ]
  },
  {
   "cell_type": "markdown",
   "metadata": {},
   "source": [
    "# 5. Filtragem e máscaras booleanas"
   ]
  },
  {
   "cell_type": "markdown",
   "metadata": {},
   "source": [
    "## 5.1 Máscaras booleanas"
   ]
  },
  {
   "cell_type": "code",
   "execution_count": null,
   "metadata": {},
   "outputs": [
    {
     "name": "stdout",
     "output_type": "stream",
     "text": [
      "Árvores Altas: [5.2 4.8 6. ]\n"
     ]
    }
   ],
   "source": [
    "arvore_alturas = np.array([3.5, 5.2, 2.1, 4.8, 6.0])\n",
    "\n",
    "# criando uma máscara para alturas maiores que 4 metros\n",
    "altas = arvore_alturas > 4\n",
    "print(\"Árvores Altas:\", arvore_alturas[altas])\n"
   ]
  },
  {
   "cell_type": "markdown",
   "metadata": {},
   "source": [
    "# 6. Broadcasting e vetorização"
   ]
  },
  {
   "cell_type": "markdown",
   "metadata": {},
   "source": [
    "## 6.1 Broadcasting"
   ]
  },
  {
   "cell_type": "code",
   "execution_count": null,
   "metadata": {},
   "outputs": [
    {
     "name": "stdout",
     "output_type": "stream",
     "text": [
      "Matriz + 10:\n",
      " [[11 12 13]\n",
      " [14 15 16]]\n"
     ]
    }
   ],
   "source": [
    "# matriz 2D\n",
    "matriz = np.array([[1, 2, 3], [4, 5, 6]])\n",
    "\n",
    "# somando um número escalar a toda a matriz\n",
    "print(\"Matriz + 10:\\n\", matriz + 10)"
   ]
  },
  {
   "cell_type": "markdown",
   "metadata": {},
   "source": [
    "## 6.2 Vetorização"
   ]
  },
  {
   "cell_type": "code",
   "execution_count": null,
   "metadata": {},
   "outputs": [],
   "source": [
    "# dois arrays grandes\n",
    "arr_large1 = np.random.rand(1000000)\n",
    "arr_large2 = np.random.rand(1000000)\n",
    "\n",
    "# usando numpy (mais rápido)\n",
    "resultado_numpy = arr_large1 * arr_large2\n",
    "\n",
    "# usando um loop for (mais lento)\n",
    "resultado_loop = [x * y for x, y in zip(arr_large1, arr_large2)]"
   ]
  },
  {
   "cell_type": "markdown",
   "metadata": {},
   "source": [
    "# 7. Manipulação de arrays multidimensionais"
   ]
  },
  {
   "cell_type": "markdown",
   "metadata": {},
   "source": [
    "## 7.1 Reshape"
   ]
  },
  {
   "cell_type": "code",
   "execution_count": null,
   "metadata": {},
   "outputs": [
    {
     "name": "stdout",
     "output_type": "stream",
     "text": [
      "Array 3x4:\n",
      " [[ 0  1  2  3]\n",
      " [ 4  5  6  7]\n",
      " [ 8  9 10 11]]\n"
     ]
    }
   ],
   "source": [
    "arr = np.arange(12)  # array de 0 a 11\n",
    "arr_reshape = arr.reshape(3, 4)  # mudando para formato 3x4\n",
    "print(\"Array 3x4:\\n\", arr_reshape)"
   ]
  },
  {
   "cell_type": "markdown",
   "metadata": {},
   "source": [
    "## 7.2 Concatenando e dividindo"
   ]
  },
  {
   "cell_type": "code",
   "execution_count": null,
   "metadata": {},
   "outputs": [
    {
     "name": "stdout",
     "output_type": "stream",
     "text": [
      "Concatenado verticalmente:\n",
      " [[1 2]\n",
      " [3 4]\n",
      " [5 6]]\n",
      "Concatenado horizontalmente:\n",
      " [[1 2 5]\n",
      " [3 4 6]]\n"
     ]
    }
   ],
   "source": [
    "a = np.array([[1, 2], [3, 4]])\n",
    "b = np.array([[5, 6]])\n",
    "\n",
    "# concatenando verticalmente\n",
    "print(\"Concatenado verticalmente:\\n\", np.vstack((a, b)))\n",
    "\n",
    "# concatenando horizontalmente\n",
    "print(\"Concatenado horizontalmente:\\n\", np.hstack((a, b.T)))"
   ]
  },
  {
   "cell_type": "markdown",
   "metadata": {},
   "source": [
    "# 8. Aplicações em imagens"
   ]
  },
  {
   "cell_type": "markdown",
   "metadata": {},
   "source": [
    "## 8.1 Pixels em uma imagem"
   ]
  },
  {
   "cell_type": "code",
   "execution_count": null,
   "metadata": {},
   "outputs": [
    {
     "data": {
      "image/png": "[encoded data removed]",
      "text/plain": [
       "<Figure size 640x480 with 1 Axes>"
      ]
     },
     "metadata": {},
     "output_type": "display_data"
    }
   ],
   "source": [
    "import matplotlib.pyplot as plt\n",
    "\n",
    "# criando uma imagem 3D (RGB)\n",
    "imagem = np.random.rand(100, 100, 3)\n",
    "\n",
    "# modificando um pedaço da imagem\n",
    "imagem[20:50, 20:50] = [1, 0, 0]  # vermelho\n",
    "\n",
    "# exibindo a imagem\n",
    "plt.imshow(imagem)\n",
    "plt.show()"
   ]
  }
 ],
 "metadata": {
  "kernelspec": {
   "display_name": ".venv",
   "language": "python",
   "name": "python3"
  },
  "language_info": {
   "codemirror_mode": {
    "name": "ipython",
    "version": 3
   },
   "file_extension": ".py",
   "mimetype": "text/x-python",
   "name": "python",
   "nbconvert_exporter": "python",
   "pygments_lexer": "ipython3",
   "version": "3.12.9"
  }
 },
 "nbformat": 4,
 "nbformat_minor": 2
}
